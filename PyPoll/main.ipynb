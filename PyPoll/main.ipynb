{
 "cells": [
  {
   "cell_type": "code",
   "execution_count": 638,
   "id": "1cf763da-2405-4970-9b7e-64ce2554c50e",
   "metadata": {},
   "outputs": [
    {
     "name": "stdout",
     "output_type": "stream",
     "text": [
      "Election Results\n",
      "----------------------------\n",
      "Total Votes:369711\n",
      "----------------------------\n",
      "Charles Casper Stockham : 23.049%  (85213)\n",
      "Raymon Anthony Doane : 3.139%  (11606)\n",
      "Diana DeGette : 73.812%  (272892)\n",
      "----------------------------\n",
      "The winner is: Diana DeGette\n"
     ]
    }
   ],
   "source": [
    "import os\n",
    "import csv\n",
    "\n",
    "candidate_list = []\n",
    "actual_candidate = []\n",
    "vote_count = []\n",
    "vote_percent = []\n",
    "count = 0\n",
    "\n",
    "election_data = (\"C:/Users/alisa/GIT/python-challenge/PyPoll/election_data.csv\")\n",
    "\n",
    "with open(election_data) as csvfile:\n",
    "\n",
    "    csv_reader = csv.reader(csvfile,delimiter=\",\")\n",
    "\n",
    "    csv_header = next(csvfile)\n",
    "    \n",
    "    for row in csv_reader:\n",
    "        count += 1\n",
    "        candidate_list.append(row[2]) \n",
    "        \n",
    "    for x in set(candidate_list):\n",
    "        actual_candidate.append(x)\n",
    "\n",
    "        y = candidate_list.count(x)\n",
    "        vote_count.append(y)\n",
    "        \n",
    "        \n",
    "        z = round((y*100)/(count),3)\n",
    "        vote_percent.append(z)\n",
    "        \n",
    "                   \n",
    "    max_vote = max(vote_count)\n",
    "    winner = actual_candidate[vote_count.index(max_vote)]\n",
    "                \n",
    "#----------------summery report---------------    \n",
    "print(\"Election Results\")\n",
    "print(\"----------------------------\")  \n",
    "print(\"Total Votes:\"+str(count))  \n",
    "print(\"----------------------------\")\n",
    "for i in range(len(actual_candidate)):\n",
    "       print(str(actual_candidate[i])+\" : \"+str(vote_percent[i])+\"%  (\"+str(vote_count[i])+\")\")\n",
    "print(\"----------------------------\")\n",
    "print(\"The winner is: \" + winner)\n",
    "\n",
    "#----------------write summery to analaysis file---------------\n",
    "analysis = open (\"C:/Users/alisa/GIT/python-challenge/pypoll/analysis-election_data.txt\", 'w')\n",
    "analysis.write(\"Election Results\"+ \"\\n\")\n",
    "analysis.write(\"----------------------------\"+ \"\\n\")  \n",
    "analysis.write(\"Total Votes:\"+str(count)+ \"\\n\")  \n",
    "analysis.write(\"----------------------------\"+ \"\\n\")\n",
    "for i in range(len(actual_candidate)):\n",
    "    analysis.write(str(actual_candidate[i])+\" : \"+str(vote_percent[i])+\"%  (\"+str(vote_count[i])+\")\"+ \"\\n\")\n",
    "analysis.write(\"----------------------------\"+ \"\\n\")\n",
    "analysis.write(\"The winner is: \" + winner+ \"\\n\")\n",
    "analysis.close()"
   ]
  },
  {
   "cell_type": "code",
   "execution_count": null,
   "id": "fb04cd92-d9e3-4440-95ba-0fa41b7c3424",
   "metadata": {},
   "outputs": [],
   "source": []
  },
  {
   "cell_type": "code",
   "execution_count": null,
   "id": "b6bcd3d4-ee32-4eec-986a-98a05711557f",
   "metadata": {},
   "outputs": [],
   "source": []
  },
  {
   "cell_type": "code",
   "execution_count": null,
   "id": "14642e55-7dd2-4421-8bf6-12a324649004",
   "metadata": {},
   "outputs": [],
   "source": []
  },
  {
   "cell_type": "code",
   "execution_count": null,
   "id": "ee71340b-360d-4e88-a225-a74d2d4c1e92",
   "metadata": {},
   "outputs": [],
   "source": []
  },
  {
   "cell_type": "code",
   "execution_count": null,
   "id": "671a3781-7bc8-4cda-929a-c036605d5601",
   "metadata": {},
   "outputs": [],
   "source": []
  }
 ],
 "metadata": {
  "kernelspec": {
   "display_name": "Python 3 (ipykernel)",
   "language": "python",
   "name": "python3"
  },
  "language_info": {
   "codemirror_mode": {
    "name": "ipython",
    "version": 3
   },
   "file_extension": ".py",
   "mimetype": "text/x-python",
   "name": "python",
   "nbconvert_exporter": "python",
   "pygments_lexer": "ipython3",
   "version": "3.9.7"
  }
 },
 "nbformat": 4,
 "nbformat_minor": 5
}
